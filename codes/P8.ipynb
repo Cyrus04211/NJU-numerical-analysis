{
 "cells": [
  {
   "cell_type": "code",
   "execution_count": 38,
   "metadata": {},
   "outputs": [
    {
     "name": "stdout",
     "output_type": "stream",
     "text": [
      "Approximation of pi using composite trapezoidal rule: 3.1411759869541287\n"
     ]
    }
   ],
   "source": [
    "import numpy as np\n",
    "\n",
    "# 定义被积函数\n",
    "def integrand(x):\n",
    "    return 4 / (1 + x**2)\n",
    "\n",
    "# 设置积分区间和初始分割数\n",
    "a = 0\n",
    "b = 1\n",
    "n = 20\n",
    "    \n",
    "def composite_trapezoidal_rule(f, a, b, n):\n",
    "    h = (b - a) / n\n",
    "    integral = 0.5 * (f(a) + f(b))\n",
    "    for i in range(1, n):\n",
    "        integral += f(a + i * h)\n",
    "    integral *= h\n",
    "    return integral\n",
    "\n",
    "# 使用复合梯形公式计算积分\n",
    "approx_pi_trapezoidal = composite_trapezoidal_rule(integrand, a, b, n)\n",
    "print(\"Approximation of pi using composite trapezoidal rule:\", approx_pi_trapezoidal)\n"
   ]
  },
  {
   "cell_type": "code",
   "execution_count": 39,
   "metadata": {},
   "outputs": [
    {
     "name": "stdout",
     "output_type": "stream",
     "text": [
      "Approximation of pi using composite Simpson's rule: 3.141592652969785\n"
     ]
    }
   ],
   "source": [
    "def composite_simpsons_rule(f, a, b, n):\n",
    "    if n % 2 != 0:\n",
    "        raise ValueError(\"n must be even for composite Simpson's rule\")\n",
    "    h = (b - a) / n\n",
    "    integral = f(a) + f(b)\n",
    "    for i in range(1, n, 2):\n",
    "        integral += 4 * f(a + i * h)\n",
    "    for i in range(2, n-1, 2):\n",
    "        integral += 2 * f(a + i * h)\n",
    "    integral *= h / 3\n",
    "    return integral\n",
    "\n",
    "# 使用复合Simpson公式计算积分\n",
    "approx_pi_simpson = composite_simpsons_rule(integrand, a, b, n)\n",
    "print(\"Approximation of pi using composite Simpson's rule:\", approx_pi_simpson)\n"
   ]
  },
  {
   "cell_type": "code",
   "execution_count": 40,
   "metadata": {},
   "outputs": [
    {
     "data": {
      "image/png": "[encoded data removed]",
      "text/plain": [
       "<Figure size 640x480 with 1 Axes>"
      ]
     },
     "metadata": {},
     "output_type": "display_data"
    }
   ],
   "source": [
    "integral1=[]\n",
    "integral2=[]\n",
    "H=np.linspace(1e-6, 1e-5, 20)\n",
    "for h in H:\n",
    "    n=int(1/h)\n",
    "    if n%2!=0:\n",
    "        n+=1\n",
    "    integral1.append(np.abs(composite_trapezoidal_rule(integrand, a, b, n)-np.pi)/np.pi)\n",
    "    integral2.append(np.abs(composite_simpsons_rule(integrand, a, b, n)-np.pi)/np.pi)\n",
    "\n",
    "import matplotlib.pyplot as plt\n",
    "plt.rcParams['font.sans-serif'] = ['SimHei']  # 指定默认字体\n",
    "plt.rcParams['axes.unicode_minus'] = False\n",
    "plt.plot(H, integral1, label='复合梯形积分',  color='r')\n",
    "# plt.plot(H, integral2, label='复合 Simpson 积分', color='y') \n",
    "plt.ylabel(r'相对误差$\\frac{|\\widetilde{\\pi}-\\pi|}{\\pi}$')\n",
    "plt.xlabel(r'步长$h$')\n",
    "plt.legend()\n",
    "plt.show()\n"
   ]
  },
  {
   "cell_type": "code",
   "execution_count": 41,
   "metadata": {},
   "outputs": [
    {
     "name": "stdout",
     "output_type": "stream",
     "text": [
      "Approximation of pi using Romberg integration: 3.1415926535897225\n"
     ]
    }
   ],
   "source": [
    "def romberg_integration(f, a, b, n):\n",
    "    r = np.zeros((n, n))\n",
    "    h = b - a\n",
    "    r[0, 0] = 0.5 * h * (f(a) + f(b))\n",
    "    for i in range(1, n):\n",
    "        h /= 2\n",
    "        summ = 0\n",
    "        for k in range(1, 2**i, 2):\n",
    "            summ += f(a + k * h)\n",
    "        r[i, 0] = 0.5 * r[i-1, 0] + summ * h\n",
    "        for j in range(1, i+1):\n",
    "            r[i, j] = r[i, j-1] + (r[i, j-1] - r[i-1, j-1]) / ((4**j) - 1)\n",
    "    return r[n-1, n-1]\n",
    "\n",
    "# 使用 Romberg 求积方法计算积分\n",
    "n_romberg = 7  # Richardson 外推表的阶数\n",
    "approx_pi_romberg = romberg_integration(integrand, a, b, n_romberg)\n",
    "print(\"Approximation of pi using Romberg integration:\", approx_pi_romberg)\n"
   ]
  },
  {
   "cell_type": "code",
   "execution_count": 42,
   "metadata": {},
   "outputs": [
    {
     "name": "stdout",
     "output_type": "stream",
     "text": [
      "Approximation of pi using adaptive integration(trapezoidal): 3.141592653588811\n"
     ]
    }
   ],
   "source": [
    "def trapezoidal_rule(f, a, b):\n",
    "    return (b - a) * (f(a) + f(b)) / 2\n",
    "\n",
    "def adaptive_trapezoidal_integration(func, a, b, tol):\n",
    "    # 使用梯形公式积分法进行自适应积分\n",
    "    mid = (a + b) / 2\n",
    "    I1 = trapezoidal_rule(func, a, b)\n",
    "    I2 = trapezoidal_rule(func, a, mid) + trapezoidal_rule(func, mid, b)\n",
    "    if abs(I2 - I1) <= 3 * tol:\n",
    "        return I2 + (I2 - I1) / 3\n",
    "    else:\n",
    "        left_int = adaptive_trapezoidal_integration(func, a, mid, tol / 2)\n",
    "        right_int = adaptive_trapezoidal_integration(func, mid, b, tol / 2)\n",
    "        return left_int + right_int\n",
    "\n",
    "# 使用自适应积分方法计算积分\n",
    "tolerance = 1e-7\n",
    "approx_pi_adaptive1 = adaptive_trapezoidal_integration(integrand, a, b, tolerance)\n",
    "print(\"Approximation of pi using adaptive integration(trapezoidal):\", approx_pi_adaptive1)\n"
   ]
  },
  {
   "cell_type": "code",
   "execution_count": 43,
   "metadata": {},
   "outputs": [
    {
     "name": "stdout",
     "output_type": "stream",
     "text": [
      "Approximation of pi using adaptive integration(Simpson): 3.1415926538112613\n"
     ]
    }
   ],
   "source": [
    "def adaptive_simpson_integration(func, a, b, tol):\n",
    "    # 使用Simpson积分法进行自适应积分\n",
    "    h = b - a\n",
    "    c = (a + b) / 2\n",
    "    fa = func(a)\n",
    "    fb = func(b)\n",
    "    fc = func(c)\n",
    "    d = (a + c) / 2\n",
    "    e = (c + b) / 2\n",
    "    fd = func(d)\n",
    "    fe = func(e)\n",
    "    S1 = h * (fa + 4 * fc + fb) / 6\n",
    "    S2 = h * (fa + 4 * fd + 2 * fc + 4 * fe + fb) / 12\n",
    "    if abs(S2 - S1) <= 15 * tol:\n",
    "        return S2 + (S2 - S1) / 15\n",
    "    else:\n",
    "        left_int = adaptive_simpson_integration(func, a, c, tol / 2)\n",
    "        right_int = adaptive_simpson_integration(func, c, b, tol / 2)\n",
    "        return left_int + right_int\n",
    "\n",
    "# 使用自适应积分方法计算积分\n",
    "tolerance = 1e-7\n",
    "approx_pi_adaptive2 = adaptive_simpson_integration(integrand, a, b, tolerance)\n",
    "print(\"Approximation of pi using adaptive integration(Simpson):\", approx_pi_adaptive2)\n"
   ]
  },
  {
   "cell_type": "code",
   "execution_count": 44,
   "metadata": {},
   "outputs": [],
   "source": [
    "# Gauss-Legendre 求积公式用于在区间 [-1, 1] 上对函数进行数值积分\n",
    "def gauss_legendre_quadrature(f, n):\n",
    "    [nodes, weights] = np.polynomial.legendre.leggauss(n)\n",
    "    return np.sum(weights * f(nodes))\n",
    "\n",
    "# Gauss-Laguerre 求积公式用于在区间 [0, ∞) 上对函数进行数值积分\n",
    "def gauss_laguerre_quadrature(f, n):\n",
    "    [nodes, weights] = np.polynomial.laguerre.laggauss(n)\n",
    "    return np.sum(weights * (f(nodes) * np.exp(nodes)))\n",
    "\n",
    "# Gauss-Chebyshev 求积公式用于在区间 [-1, 1] 上对具有权函数 1 / np.sqrt(1 - x**2) 的函数进行数值积分\n",
    "def gauss_chebyshev_quadrature(f, n):\n",
    "    nodes = np.cos((2 * np.arange(1, n + 1) - 1) * np.pi / (2 * n))\n",
    "    weights = np.pi / n * np.ones(n)\n",
    "    return np.sum(weights * f(nodes) * np.sqrt(1 - nodes**2))\n",
    "\n"
   ]
  },
  {
   "cell_type": "code",
   "execution_count": 48,
   "metadata": {},
   "outputs": [
    {
     "name": "stdout",
     "output_type": "stream",
     "text": [
      "The approximate value of the double integral: 0.9499999999999988\n",
      "The approximate value of the double integral: 1.0\n"
     ]
    }
   ],
   "source": [
    "#重积分计算\n",
    "def f(x, y):\n",
    "    return x + y\n",
    "\n",
    "def composite_simpson_1d(f, a, b, n):\n",
    "    \"\"\"\n",
    "    计算一维函数 f 在区间 [a, b] 上的复合 Simpson 积分\n",
    "\n",
    "    参数：\n",
    "    f: 被积函数\n",
    "    a, b: 积分区间的下限和上限\n",
    "    n: 将积分区间分成 n 个小段\n",
    "\n",
    "    返回值：\n",
    "    积分近似值\n",
    "    \"\"\"\n",
    "    h = (b - a) / n\n",
    "    integral = f(a) + f(b)\n",
    "\n",
    "    for i in range(1, n):\n",
    "        x = a + i * h\n",
    "        if i % 2 == 0:\n",
    "            integral += 2 * f(x)\n",
    "        else:\n",
    "            integral += 4 * f(x)\n",
    "\n",
    "    integral *= h / 3\n",
    "    return integral\n",
    "\n",
    "def composite_simpson_2d(f, a_x, b_x, a_y, b_y, n_x, n_y):\n",
    "    \"\"\"\n",
    "    计算二维函数 f 在矩形区域 [a_x, b_x] x [a_y, b_y] 上的复合 Simpson 积分\n",
    "\n",
    "    参数：\n",
    "    f: 被积函数\n",
    "    a_x, b_x: x 积分区间的下限和上限\n",
    "    a_y, b_y: y 积分区间的下限和上限\n",
    "    n_x: 将 x 积分区间分成 n_x 个小段\n",
    "    n_y: 将 y 积分区间分成 n_y 个小段\n",
    "\n",
    "    返回值：\n",
    "    积分近似值\n",
    "    \"\"\"\n",
    "    integral = 0.\n",
    "    h_x = (b_x - a_x) / n_x\n",
    "    h_y = (b_y - a_y) / n_y\n",
    "\n",
    "    for i in range(n_x):\n",
    "        x0 = a_x + i * h_x\n",
    "        x1 = a_x + (i + 1) * h_x\n",
    "        for j in range(n_y):\n",
    "            y0 = a_y + j * h_y\n",
    "            y1 = a_y + (j + 1) * h_y\n",
    "            # 在 y 方向上应用复合 Simpson 公式\n",
    "            integral_y = composite_simpson_1d(lambda y: f(x0, y), y0, y1, n_y)\n",
    "            # 在 x 方向上应用复合 Simpson 公式\n",
    "            integral += composite_simpson_1d(lambda x: integral_y, x0, x1, n_x) \n",
    "    return integral\n",
    "\n",
    "# 使用复合 Simpson 公式进行二重积分\n",
    "def double_integral(f, a_x, b_x, a_y, b_y, n = 10):\n",
    "    def f_integral(y):\n",
    "\n",
    "        def f_double(x):\n",
    "            return f(x, y)\n",
    "        \n",
    "        return composite_simpsons_rule(f_double, a_x, b_x, n)\n",
    "    \n",
    "    return composite_simpsons_rule(f_integral, a_y, b_y, n)\n",
    "\n",
    "# 积分区间和分段数\n",
    "a_x = 0\n",
    "b_x = 1\n",
    "a_y = 0\n",
    "b_y = 1\n",
    "n_x = 10\n",
    "n_y = 10\n",
    "\n",
    "# 计算二重积分\n",
    "integral1 = composite_simpson_2d(f, a_x, b_x, a_y, b_y, n_x, n_y)\n",
    "integral2 = double_integral(f, a_x, b_x, a_y, b_y)\n",
    "print(\"The approximate value of the double integral:\", integral1)\n",
    "print(\"The approximate value of the double integral:\", integral2)"
   ]
  },
  {
   "cell_type": "code",
   "execution_count": 45,
   "metadata": {},
   "outputs": [
    {
     "name": "stdout",
     "output_type": "stream",
     "text": [
      "Approximation of the integral using composite trapezoidal rule: 6.493939396095043\n",
      "Approximation of the integral using composite Simpson's rule: 6.493939412970223\n",
      "Approximation of the integral using Romberg integration: 6.493934406808086\n",
      "Approximation of the integral using adaptive integration(trapezoidal): 6.493939403068948\n",
      "Approximation of the integral using adaptive integration(Simpson): 6.493939449769743\n",
      "Approximation of the integral using Gauss-Laguerre integration: 6.493939402219589\n"
     ]
    }
   ],
   "source": [
    "# 定义被积函数\n",
    "def integrand_planck(x):\n",
    "        # 定义被积函数\n",
    "    if abs(x) < 1e-10:\n",
    "        return x**3 / (np.exp(1e-10) - 1)\n",
    "    elif x > np.log(np.inf) - 1:\n",
    "        return 0\n",
    "    else:\n",
    "        return x**3 / (np.exp(x) - 1)\n",
    "    \n",
    "def integrand_planck_real(x):\n",
    "        return x**3 / (np.exp(x) - 1)\n",
    "\n",
    "# 积分区间\n",
    "a_planck = 0\n",
    "b_planck = 30\n",
    "\n",
    "# 设置 Richardson 外推表的阶数\n",
    "n_romberg_planck = 7\n",
    "\n",
    "# 设置自适应积分方法的容许误差\n",
    "tolerance_planck = 1e-6\n",
    "\n",
    "# 复合梯形求积\n",
    "n_trapezoidal = 1000\n",
    "approx_integral_trapezoidal = composite_trapezoidal_rule(integrand_planck, a_planck, b_planck, n_trapezoidal)\n",
    "\n",
    "# 复合 Simpson 求积\n",
    "n_simpson = 1000\n",
    "approx_integral_simpson = composite_simpsons_rule(integrand_planck, a_planck, b_planck, n_simpson)\n",
    "\n",
    "# Romberg 求积\n",
    "approx_integral_romberg = romberg_integration(integrand_planck, a_planck, b_planck, n_romberg_planck)\n",
    "\n",
    "# 自适应积分\n",
    "approx_integral_adaptive1 = adaptive_trapezoidal_integration(integrand_planck, a_planck, b_planck, tolerance_planck)\n",
    "approx_integral_adaptive2 = adaptive_simpson_integration(integrand_planck, a_planck, b_planck, tolerance_planck)\n",
    "\n",
    "# Gauss-Laguerre 求积公式\n",
    "n_gauss_laguerre = 20\n",
    "approx_integral_gauss_laguerre = gauss_laguerre_quadrature(integrand_planck_real, n_gauss_laguerre)\n",
    "\n",
    "\n",
    "print(\"Approximation of the integral using composite trapezoidal rule:\", approx_integral_trapezoidal)\n",
    "print(\"Approximation of the integral using composite Simpson's rule:\", approx_integral_simpson)\n",
    "print(\"Approximation of the integral using Romberg integration:\", approx_integral_romberg)\n",
    "print(\"Approximation of the integral using adaptive integration(trapezoidal):\", approx_integral_adaptive1)\n",
    "print(\"Approximation of the integral using adaptive integration(Simpson):\", approx_integral_adaptive2)\n",
    "print(\"Approximation of the integral using Gauss-Laguerre integration:\", approx_integral_gauss_laguerre)\n"
   ]
  },
  {
   "cell_type": "code",
   "execution_count": null,
   "metadata": {},
   "outputs": [],
   "source": []
  }
 ],
 "metadata": {
  "kernelspec": {
   "display_name": "MathsModel",
   "language": "python",
   "name": "python3"
  },
  "language_info": {
   "codemirror_mode": {
    "name": "ipython",
    "version": 3
   },
   "file_extension": ".py",
   "mimetype": "text/x-python",
   "name": "python",
   "nbconvert_exporter": "python",
   "pygments_lexer": "ipython3",
   "version": "3.11.8"
  }
 },
 "nbformat": 4,
 "nbformat_minor": 2
}
