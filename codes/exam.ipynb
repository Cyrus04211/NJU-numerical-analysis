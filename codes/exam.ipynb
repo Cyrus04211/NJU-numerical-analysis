{
 "cells": [
  {
   "cell_type": "code",
   "execution_count": 2,
   "metadata": {},
   "outputs": [],
   "source": [
    "import numpy as np\n",
    "import matplotlib.pyplot as plt\n",
    "plt.rcParams['font.sans-serif'] = ['SimHei']\n",
    "plt.rcParams['axes.unicode_minus'] = False"
   ]
  },
  {
   "cell_type": "code",
   "execution_count": 3,
   "metadata": {},
   "outputs": [],
   "source": [
    "# 初始条件和步长\n",
    "x0, y0 = 0, 1\n",
    "x1 = 1\n",
    "h_min = 0.0001\n",
    "h_max = 0.2\n",
    "tol = 1e-4"
   ]
  },
  {
   "cell_type": "code",
   "execution_count": 13,
   "metadata": {},
   "outputs": [],
   "source": [
    "# 定义常微分方程\n",
    "def f(x, y):\n",
    "    return -y + x**2 + 2\n",
    "\n",
    "def runge_kutta_4(f, x0, x1, y0, tol, hmax, hmin):\n",
    "    y1=[]\n",
    "    x=[]\n",
    "    t = x0\n",
    "    y = y0\n",
    "    y1.append(y0)\n",
    "    x.append(x0)\n",
    "    h = hmax\n",
    "    while t < x1:\n",
    "        k1=h*f(t,y)\n",
    "        k2=h*f(t+0.25*h,y+0.25*k1)\n",
    "        k3=h*f(t+(3/8)*h,y+(3/32)*k1+(9/32)*k2)\n",
    "        k4=h*f(t+(12/13)*h,y+(1932/2197)*k1-(7200/2197)*k2+(7296/2197)*k3)\n",
    "        k5=h*f(t+h,y+(439/216)*k1-8*k2+(3680/513)*k3-(845/4104)*k4)\n",
    "        k6=h*f(t+(1/2)*h,y-(8/27)*k1+2*k2-(3544/2565)*k3+(1859/4104)*k4-(11/40)*k5)\n",
    "        R=np.abs((1/360)*k1-(128/4275)*k3-(2197/75240)*k4+(1/50)*k5+(2/55)*k6)\n",
    "        delta=0.84*((tol/R)**(1/4))\n",
    "        if R<=tol:\n",
    "            t=t+h\n",
    "            y=y+(25/216)*k1+(1408/2565)*k3+(2197/4104)*k4-(1/5)*k5\n",
    "            x.append(t)\n",
    "            y1.append(y)\n",
    "        if delta<=0.1:\n",
    "            h=0.1*h\n",
    "        else:\n",
    "            if delta>=4:\n",
    "                h=4*h\n",
    "            else:\n",
    "                h=delta*h\n",
    "        if h>hmax:\n",
    "            h=hmax\n",
    "        if h<hmin:\n",
    "            print('stop')\n",
    "            break\n",
    "    return x, y1"
   ]
  },
  {
   "cell_type": "code",
   "execution_count": 14,
   "metadata": {},
   "outputs": [],
   "source": [
    "x_rk4, y_rk4 = runge_kutta_4(f, x0, x1, y0, tol, h_max, h_min)"
   ]
  },
  {
   "cell_type": "code",
   "execution_count": 25,
   "metadata": {},
   "outputs": [
    {
     "name": "stdout",
     "output_type": "stream",
     "text": [
      "1\n",
      "1.1838083076923076\n",
      "1.3490406228872582\n",
      "1.5135657904689523\n",
      "1.6920135743911044\n",
      "1.896361805046761\n"
     ]
    }
   ],
   "source": [
    "for i in range(len(y_rk4)):\n",
    "    print(y_rk4[i])\n",
    "    # print(sol.sol(x_rk4)[0][i])\n",
    "    # print(x_rk4[i])"
   ]
  },
  {
   "cell_type": "code",
   "execution_count": 17,
   "metadata": {},
   "outputs": [
    {
     "name": "stdout",
     "output_type": "stream",
     "text": [
      "Solution:  [1.         1.18389535 1.3493627  1.51379129 1.69195461 1.89618438]\n",
      "Runge-Kutta 4 Method: [1, 1.1838083076923076, 1.3490406228872582, 1.5135657904689523, 1.6920135743911044, 1.896361805046761]\n"
     ]
    }
   ],
   "source": [
    "from scipy.integrate import solve_ivp\n",
    "x_span=(0, 1)\n",
    "y_0=np.array([1])\n",
    "sol=solve_ivp(f, x_span, y_0, method='RK45', dense_output=True)\n",
    "x_values = np.linspace(x_span[0], x_span[1], 1000)\n",
    "y_values = sol.sol(x_values)\n",
    "print(\"Solution: \", sol.sol(x_rk4)[0])\n",
    "print(\"Runge-Kutta 4 Method:\", y_rk4)"
   ]
  },
  {
   "cell_type": "code",
   "execution_count": 21,
   "metadata": {},
   "outputs": [
    {
     "data": {
      "image/png": "[encoded data removed]",
      "text/plain": [
       "<Figure size 640x480 with 1 Axes>"
      ]
     },
     "metadata": {},
     "output_type": "display_data"
    }
   ],
   "source": [
    "plt.plot(x_rk4, y_rk4, label='Runge-Kutta-Fehlberg 方法', color='r')\n",
    "plt.plot(x_values, y_values[0], label='初值问题精确解', color='y')\n",
    "plt.xlabel('$t$')\n",
    "plt.ylabel('$y$')\n",
    "plt.legend()\n",
    "plt.show()"
   ]
  },
  {
   "cell_type": "code",
   "execution_count": null,
   "metadata": {},
   "outputs": [],
   "source": []
  }
 ],
 "metadata": {
  "kernelspec": {
   "display_name": "MathsModel",
   "language": "python",
   "name": "python3"
  },
  "language_info": {
   "codemirror_mode": {
    "name": "ipython",
    "version": 3
   },
   "file_extension": ".py",
   "mimetype": "text/x-python",
   "name": "python",
   "nbconvert_exporter": "python",
   "pygments_lexer": "ipython3",
   "version": "3.11.8"
  }
 },
 "nbformat": 4,
 "nbformat_minor": 2
}
