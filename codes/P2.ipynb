{
 "cells": [
  {
   "cell_type": "code",
   "execution_count": 114,
   "id": "2c122c53-79dc-427a-a481-0aadfc9ad20c",
   "metadata": {},
   "outputs": [
    {
     "name": "stdout",
     "output_type": "stream",
     "text": [
      "x = -0.0001, y = -1.666666666666667e-13\n",
      "x = -0.001, y = -1.6666666666666669e-10\n",
      "x = -0.01, y = -1.6666583333333337e-07\n",
      "x = -0.1, y = -0.0001665833531718475\n",
      "x = -1.0, y = -0.1585290151921035\n",
      "x = -10.0, y = -10.54402111088937\n",
      "x = 0.0001, y = 1.666666666666667e-13\n",
      "x = 0.001, y = 1.6666666666666669e-10\n",
      "x = 0.01, y = 1.6666583333333337e-07\n",
      "x = 0.1, y = 0.0001665833531718475\n",
      "x = 1.0, y = 0.1585290151921035\n",
      "x = 10.0, y = 10.54402111088937\n"
     ]
    }
   ],
   "source": [
    "import math\n",
    "def x_sinx(x):\n",
    "    if 1-math.sin(x)/x>=0.5:\n",
    "        return x-math.sin(x)\n",
    "    else:\n",
    "        n=1\n",
    "        y=0.\n",
    "        while abs((x**(2*n+1.))/(math.factorial(2*n+1)))>1e-17:\n",
    "            an=(-1)**(n+1)*(x**(2*n+1.))/(math.factorial(2*n+1))\n",
    "            y=y+an\n",
    "            n=n+1\n",
    "        return y\n",
    "\n",
    "# 初始化列表用于存储结果\n",
    "results1 = []\n",
    "\n",
    "x = -1e-4\n",
    "while x >= -10:\n",
    "    y = x_sinx(x)\n",
    "    results1.append((x, y))\n",
    "    x *= 10\n",
    "# 从 1e-4 开始逐项乘以 10 直到 10\n",
    "x = 1e-4\n",
    "while x <= 10:\n",
    "    y = x_sinx(x)\n",
    "    results1.append((x, y))\n",
    "    x *= 10\n",
    "\n",
    "# 打印结果\n",
    "for x, y in results1:\n",
    "    print(f\"x = {x}, y = {y}\")"
   ]
  },
  {
   "cell_type": "code",
   "execution_count": 115,
   "id": "55869d3a-aa97-43a2-abef-cfcbc3f4b427",
   "metadata": {},
   "outputs": [
    {
     "name": "stdout",
     "output_type": "stream",
     "text": [
      "x = -0.0001, y = -1.6666666148319048e-13\n",
      "x = -0.001, y = -1.6666665833900418e-10\n",
      "x = -0.01, y = -1.6666583333574403e-07\n",
      "x = -0.1, y = -0.0001665833531718508\n",
      "x = -1.0, y = -0.1585290151921035\n",
      "x = -10.0, y = -10.54402111088937\n",
      "x = 0.0001, y = 1.6666666148319048e-13\n",
      "x = 0.001, y = 1.6666665833900418e-10\n",
      "x = 0.01, y = 1.6666583333574403e-07\n",
      "x = 0.1, y = 0.0001665833531718508\n",
      "x = 1.0, y = 0.1585290151921035\n",
      "x = 10.0, y = 10.54402111088937\n"
     ]
    }
   ],
   "source": [
    "# 初始化列表用于存储结果\n",
    "results2 = []\n",
    "\n",
    "x = -1e-4\n",
    "while x >= -10:\n",
    "    y = x-math.sin(x)\n",
    "    results2.append((x, y))\n",
    "    x *= 10\n",
    "# 从 1e-4 开始逐项乘以 10 直到 10\n",
    "x = 1e-4\n",
    "while x <= 10:\n",
    "    y = x-math.sin(x)\n",
    "    results2.append((x, y))\n",
    "    x *= 10\n",
    "\n",
    "# 打印结果\n",
    "for x, y in results2:\n",
    "    print(f\"x = {x}, y = {y}\")\n"
   ]
  },
  {
   "cell_type": "code",
   "execution_count": 116,
   "id": "28fb7eb6-e14c-436f-9090-982bc328190c",
   "metadata": {},
   "outputs": [
    {
     "name": "stdout",
     "output_type": "stream",
     "text": [
      "n = 0, y = 1.7182818284590453\n",
      "n = 1, y = 0.9999999999999998\n",
      "n = 2, y = 0.7182818284590455\n",
      "n = 3, y = 0.5634363430819085\n",
      "n = 4, y = 0.46453645613141115\n",
      "n = 5, y = 0.39559954780198936\n",
      "n = 6, y = 0.34468454164710893\n",
      "n = 7, y = 0.30549003692928256\n",
      "n = 8, y = 0.2743615330247846\n",
      "n = 9, y = 0.2490280312359836\n",
      "n = 10, y = 0.22800151609920905\n",
      "n = 11, y = 0.2102651513677456\n",
      "n = 12, y = 0.19510001204609795\n",
      "n = 13, y = 0.18198167185977177\n",
      "n = 14, y = 0.17053842242224038\n",
      "n = 15, y = 0.16020549212543944\n",
      "n = 16, y = 0.15499395445201403\n",
      "n = 17, y = 0.08338460277480664\n",
      "n = 18, y = 1.2173589785125256\n",
      "n = 19, y = -20.41153876327894\n",
      "n = 20, y = 410.94905709403787\n"
     ]
    }
   ],
   "source": [
    "results3=[]\n",
    "from scipy.integrate import quad\n",
    "def integral(y,n):\n",
    "    result= math.e - (n+1)*y\n",
    "    return result\n",
    "\n",
    "def origin_function(x):\n",
    "    return math.exp(x)\n",
    "\n",
    "y0=quad(func=origin_function,a=0,b=1)[0]\n",
    "y=y0\n",
    "for n in range(21):\n",
    "    results3.append((n,y))\n",
    "    y=integral(y,n)\n",
    "\n",
    "# 打印结果\n",
    "for n, y in results3:\n",
    "    print(f\"n = {n}, y = {y}\")"
   ]
  },
  {
   "cell_type": "code",
   "execution_count": 117,
   "id": "4dbfdc85-c0ee-4f4c-a392-f27efaed82af",
   "metadata": {},
   "outputs": [
    {
     "name": "stdout",
     "output_type": "stream",
     "text": [
      "n = 0, y = 1.7182818284590453\n",
      "n = 1, y = 1.0\n",
      "n = 2, y = 0.7182818284590453\n",
      "n = 3, y = 0.5634363430819096\n",
      "n = 4, y = 0.46453645613140715\n",
      "n = 5, y = 0.3955995478020097\n",
      "n = 6, y = 0.34468454164698736\n",
      "n = 7, y = 0.30549003693013366\n",
      "n = 8, y = 0.27436153301797617\n",
      "n = 9, y = 0.2490280312972604\n",
      "n = 10, y = 0.22800151548644187\n",
      "n = 11, y = 0.21026515810818544\n",
      "n = 12, y = 0.19509993116082067\n",
      "n = 13, y = 0.18198272336837704\n",
      "n = 14, y = 0.17052370130176747\n",
      "n = 15, y = 0.16042630893253407\n",
      "n = 16, y = 0.1514608855385012\n",
      "n = 17, y = 0.14344677430452532\n",
      "n = 18, y = 0.13623989097759065\n",
      "n = 19, y = 0.1297238998848238\n",
      "n = 20, y = 0.12380383076256998\n"
     ]
    }
   ],
   "source": [
    "def integral_function(x,n):\n",
    "    return x**n*math.exp(x)\n",
    "\n",
    "results4=[]\n",
    "for n in range(21):\n",
    "    y=quad(func=integral_function,a=0,b=1,args=(n,))\n",
    "    results4.append((n,y[0]))\n",
    "\n",
    "# 打印结果\n",
    "for n, y in results4:\n",
    "    print(f\"n = {n}, y = {y}\")"
   ]
  },
  {
   "cell_type": "code",
   "execution_count": 118,
   "id": "7378b487-f9e4-4894-8540-0f9f9b1cf918",
   "metadata": {},
   "outputs": [
    {
     "name": "stdout",
     "output_type": "stream",
     "text": [
      "n = 0, y = 1.0\n",
      "n = 3, y = 0.03703703703703703\n",
      "n = 6, y = 0.0013717421124828527\n",
      "n = 9, y = 5.0805263425290837e-05\n",
      "n = 12, y = 1.8816764231589195e-06\n",
      "n = 15, y = 6.969171937625627e-08\n",
      "n = 18, y = 2.5811747917131946e-09\n",
      "n = 21, y = 9.559906635974793e-11\n",
      "n = 24, y = 3.540706161472145e-12\n",
      "n = 27, y = 1.3113726523970905e-13\n",
      "n = 30, y = 4.856935749618853e-15\n"
     ]
    }
   ],
   "source": [
    "results5=[]\n",
    "for n in range(0,31,3):\n",
    "    y=(1/3)**n\n",
    "    results5.append((n,y))\n",
    "\n",
    "for n,y in results5:\n",
    "    print(f'n = {n}, y = {y}')"
   ]
  },
  {
   "cell_type": "code",
   "execution_count": 119,
   "id": "2fd08228-1f3d-4ab0-8958-92063d643ae6",
   "metadata": {},
   "outputs": [
    {
     "name": "stdout",
     "output_type": "stream",
     "text": [
      "n = 0, y = 1.0\n",
      "n = 3, y = 0.03703703703703626\n",
      "n = 6, y = 0.0013717421124321456\n",
      "n = 9, y = 5.0805260179967644e-05\n",
      "n = 12, y = 1.8814687224716613e-06\n",
      "n = 15, y = 5.63988753916179e-08\n",
      "n = 18, y = -8.481608402251475e-07\n",
      "n = 21, y = -5.444739336201271e-05\n",
      "n = 24, y = -0.0034846392899683535\n",
      "n = 27, y = -0.22301691478444863\n",
      "n = 30, y = -14.2730825462131\n"
     ]
    }
   ],
   "source": [
    "results7=[]\n",
    "x0=1.\n",
    "x1=1/3\n",
    "for n in range(31):\n",
    "    if n==0:\n",
    "        y=x0\n",
    "        results7.append((n,y))\n",
    "        continue\n",
    "    elif n==1:\n",
    "        y=x1\n",
    "        results7.append((n,y))\n",
    "        continue\n",
    "    else:\n",
    "        y=13/3*x1-4/3*x0\n",
    "        results7.append((n,y))\n",
    "        x0=x1\n",
    "        x1=y\n",
    "\n",
    "for n,y in results7:\n",
    "    if n%3==0:\n",
    "        print(f'n = {n}, y = {y}')"
   ]
  },
  {
   "cell_type": "code",
   "execution_count": 120,
   "id": "86caeda9-e811-496c-a26c-14008c2252bf",
   "metadata": {},
   "outputs": [
    {
     "name": "stdout",
     "output_type": "stream",
     "text": [
      "n = 0, y = 1\n",
      "n = 2, y = 16\n",
      "n = 4, y = 256\n",
      "n = 6, y = 4096\n",
      "n = 8, y = 65536\n",
      "n = 10, y = 1048576\n",
      "n = 12, y = 16777216\n",
      "n = 14, y = 268435456\n",
      "n = 16, y = 4294967296\n",
      "n = 18, y = 68719476736\n",
      "n = 20, y = 1099511627776\n"
     ]
    }
   ],
   "source": [
    "results6=[]\n",
    "for n in range(0,21,2):\n",
    "    y=(4)**n\n",
    "    results6.append((n,y))\n",
    "\n",
    "for n,y in results6:\n",
    "    print(f'n = {n}, y = {y}')"
   ]
  },
  {
   "cell_type": "code",
   "execution_count": 121,
   "id": "a4540132-444a-40d8-b6d2-7206187652a0",
   "metadata": {},
   "outputs": [
    {
     "name": "stdout",
     "output_type": "stream",
     "text": [
      "n = 0, y = 1.0\n",
      "n = 2, y = 15.999999999999998\n",
      "n = 4, y = 255.9999999999999\n",
      "n = 6, y = 4095.999999999998\n",
      "n = 8, y = 65535.99999999997\n",
      "n = 10, y = 1048575.9999999995\n",
      "n = 12, y = 16777215.999999993\n",
      "n = 14, y = 268435455.99999988\n",
      "n = 16, y = 4294967295.999998\n",
      "n = 18, y = 68719476735.99997\n",
      "n = 20, y = 1099511627775.9995\n"
     ]
    }
   ],
   "source": [
    "results8=[]\n",
    "x0=1.\n",
    "x1=4\n",
    "for n in range(0,21,1):\n",
    "    if n==0:\n",
    "        y=x0\n",
    "        results8.append((n,y))\n",
    "        continue\n",
    "    elif n==1:\n",
    "        y=x1\n",
    "        results8.append((n,y))\n",
    "        continue\n",
    "    else:\n",
    "        y=13/3*x1-4/3*x0\n",
    "        results8.append((n,y))\n",
    "        x0=x1\n",
    "        x1=y\n",
    "\n",
    "for n,y in results8:\n",
    "    if n%2==0:\n",
    "        print(f'n = {n}, y = {y}')"
   ]
  },
  {
   "cell_type": "code",
   "execution_count": null,
   "id": "86bbf0e2-25fa-4bed-a844-847796e76bf0",
   "metadata": {},
   "outputs": [],
   "source": []
  }
 ],
 "metadata": {
  "kernelspec": {
   "display_name": "Python 3 (ipykernel)",
   "language": "python",
   "name": "python3"
  },
  "language_info": {
   "codemirror_mode": {
    "name": "ipython",
    "version": 3
   },
   "file_extension": ".py",
   "mimetype": "text/x-python",
   "name": "python",
   "nbconvert_exporter": "python",
   "pygments_lexer": "ipython3",
   "version": "3.11.5"
  },
  "widgets": {
   "application/vnd.jupyter.widget-state+json": {
    "state": {},
    "version_major": 2,
    "version_minor": 0
   }
  }
 },
 "nbformat": 4,
 "nbformat_minor": 5
}
